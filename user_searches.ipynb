{
 "cells": [
  {
   "cell_type": "code",
   "execution_count": 3,
   "id": "dcd30527",
   "metadata": {},
   "outputs": [
    {
     "data": {
      "text/html": [
       "<style>.container { width:100% !important; }</style>"
      ],
      "text/plain": [
       "<IPython.core.display.HTML object>"
      ]
     },
     "metadata": {},
     "output_type": "display_data"
    }
   ],
   "source": [
    "from IPython.display import display, HTML\n",
    "display(HTML(\"<style>.container { width:100% !important; }</style>\"))\n",
    "\n",
    "import numpy as np\n",
    "import pandas as pd\n",
    "import matplotlib.pyplot as plt\n",
    "import seaborn as sns\n",
    "%matplotlib inline\n",
    "\n",
    "from google.cloud import bigquery"
   ]
  },
  {
   "cell_type": "code",
   "execution_count": 4,
   "id": "dad5c2b0",
   "metadata": {},
   "outputs": [],
   "source": [
    "def estimate_bigquery_query_cost(bq_client, query):\n",
    "    \n",
    "    job_config = bigquery.QueryJobConfig()\n",
    "    job_config.dry_run = True\n",
    "    job_config.use_query_cache = False\n",
    "    query_job = bq_client.query(\n",
    "\n",
    "        (\n",
    "           query\n",
    "        ),\n",
    "        job_config=job_config,\n",
    "    )\n",
    "    \n",
    "    cost_euros = (query_job.total_bytes_processed / 1024 ** 4) * 6\n",
    "\n",
    "    print(f\"{query_job.total_bytes_processed} bytes will be processed , cost ~{cost_euros}$\")"
   ]
  },
  {
   "cell_type": "code",
   "execution_count": 5,
   "id": "7ebb91b2",
   "metadata": {},
   "outputs": [],
   "source": [
    "bigquery_client= bigquery.Client(project=\"ingka-energy-analytics-dev\") # ingka-energy-solar-dev"
   ]
  },
  {
   "cell_type": "code",
   "execution_count": 6,
   "id": "96112758",
   "metadata": {},
   "outputs": [
    {
     "name": "stdout",
     "output_type": "stream",
     "text": [
      "2510418036 bytes will be processed , cost ~0.013699271417863201$\n"
     ]
    }
   ],
   "source": [
    "# Download query results.\n",
    "query_string = \"\"\"\n",
    "    SELECT \n",
    "        internal_search_type\n",
    "        , count(1) as count_cat\n",
    "    FROM `ingka-web-analytics-prod.web_data_v2.hits_events_and_pages` \n",
    "    WHERE \n",
    "        date_hit = '2022-07-02' \n",
    "        AND internal_search_type is not Null\n",
    "    GROUP BY internal_search_type\n",
    "    ORDER BY count_cat DESC\n",
    "    LIMIT 1000\n",
    "\"\"\"\n",
    "\n",
    "estimate_bigquery_query_cost(bigquery_client, query_string) "
   ]
  },
  {
   "cell_type": "code",
   "execution_count": 7,
   "id": "7a9e747b",
   "metadata": {},
   "outputs": [],
   "source": [
    "# df = (\n",
    "#     bigquery_client.query(query_string)\n",
    "#     .result()\n",
    "#     .to_dataframe(\n",
    "#         # Optionally, explicitly request to use the BigQuery Storage API. As of\n",
    "#         # google-cloud-bigquery version 1.26.0 and above, the BigQuery Storage\n",
    "#         # API is used by default.\n",
    "#         create_bqstorage_client=True,\n",
    "#     )\n",
    "# )\n",
    "\n",
    "# df"
   ]
  },
  {
   "cell_type": "code",
   "execution_count": 12,
   "id": "f00867a2",
   "metadata": {},
   "outputs": [
    {
     "data": {
      "text/plain": [
       "'\"solar\" in UNNEST(internal_search_terms) OR \"sol\" in UNNEST(internal_search_terms) OR \"sunpower\" in UNNEST(internal_search_terms) OR \"svea\" in UNNEST(internal_search_terms) OR \"solstroma\" in UNNEST(internal_search_terms) OR \"solpaneler\" in UNNEST(internal_search_terms)'"
      ]
     },
     "execution_count": 12,
     "metadata": {},
     "output_type": "execute_result"
    }
   ],
   "source": [
    "# Get SQL string filter condition\n",
    "product_string_queries = [\n",
    "    'solar','sol', 'sunpower', 'svea', 'solstroma', 'solpaneler',\n",
    "]\n",
    "string_exp = ' OR '.join([f'\"{exp}\" in UNNEST(internal_search_terms)' for exp in product_string_queries])\n",
    "string_exp"
   ]
  },
  {
   "cell_type": "code",
   "execution_count": null,
   "id": "d6665696",
   "metadata": {},
   "outputs": [],
   "source": [
    "# Download query results.\n",
    "query_string = \"\"\"\n",
    "SELECT *\n",
    "FROM (\n",
    "    SELECT \n",
    "        date_hit\n",
    "        , visitor_id\n",
    "        , session_id\n",
    "        , website_market_short\n",
    "        , website_language_short\n",
    "        , ARRAY_AGG(DISTINCT LOWER(internal_search_term)) as internal_search_terms\n",
    "    FROM `ingka-web-analytics-prod.web_data_v2.hits_events_and_pages` \n",
    "    WHERE \n",
    "        date_hit >= '2022-07-02' \n",
    "        AND website_market_short in ('us','se')\n",
    "        AND event_category like '%search%'\n",
    "        AND internal_search_type = 'hard_search'\n",
    "        AND internal_search_term is not Null\n",
    "    GROUP BY\n",
    "        date_hit\n",
    "        , visitor_id\n",
    "        , session_id\n",
    "        , website_market_short\n",
    "        , website_language_short\n",
    "    ORDER BY visitor_id\n",
    ") searches\n",
    "WHERE \n",
    "    {exp}\n",
    "\"\"\".format(exp=string_exp)\n",
    "\n",
    "estimate_bigquery_query_cost(bigquery_client, query_string) "
   ]
  },
  {
   "cell_type": "code",
   "execution_count": 17,
   "id": "6d428e22",
   "metadata": {},
   "outputs": [
    {
     "data": {
      "text/plain": [
       "<google.cloud.bigquery.table.RowIterator at 0x17f36b0a0>"
      ]
     },
     "execution_count": 17,
     "metadata": {},
     "output_type": "execute_result"
    }
   ],
   "source": [
    "# Write to table\n",
    "table_id=\"ingka-energy-analytics-dev.ces_da_playground.searches_temp\"\n",
    "\n",
    "job_config = bigquery.QueryJobConfig(\n",
    "    allow_large_results=True, destination=table_id, use_legacy_sql=False,\n",
    "    write_disposition = \"WRITE_TRUNCATE\"\n",
    ")\n",
    "\n",
    "\n",
    "bigquery_client.query(\n",
    "    query_string, \n",
    "    job_config=job_config\n",
    ").result()"
   ]
  },
  {
   "cell_type": "code",
   "execution_count": 15,
   "id": "2fd770fe",
   "metadata": {},
   "outputs": [
    {
     "data": {
      "text/html": [
       "<div>\n",
       "<style scoped>\n",
       "    .dataframe tbody tr th:only-of-type {\n",
       "        vertical-align: middle;\n",
       "    }\n",
       "\n",
       "    .dataframe tbody tr th {\n",
       "        vertical-align: top;\n",
       "    }\n",
       "\n",
       "    .dataframe thead th {\n",
       "        text-align: right;\n",
       "    }\n",
       "</style>\n",
       "<table border=\"1\" class=\"dataframe\">\n",
       "  <thead>\n",
       "    <tr style=\"text-align: right;\">\n",
       "      <th></th>\n",
       "      <th>date_hit</th>\n",
       "      <th>visitor_id</th>\n",
       "      <th>session_id</th>\n",
       "      <th>website_market_short</th>\n",
       "      <th>website_language_short</th>\n",
       "      <th>internal_search_terms</th>\n",
       "    </tr>\n",
       "  </thead>\n",
       "  <tbody>\n",
       "    <tr>\n",
       "      <th>0</th>\n",
       "      <td>2022-07-02</td>\n",
       "      <td>3301425720097539846</td>\n",
       "      <td>33014257200975398461656784646</td>\n",
       "      <td>se</td>\n",
       "      <td>sv</td>\n",
       "      <td>[sol]</td>\n",
       "    </tr>\n",
       "    <tr>\n",
       "      <th>1</th>\n",
       "      <td>2022-07-02</td>\n",
       "      <td>5068006246376821932</td>\n",
       "      <td>50680062463768219321656771756</td>\n",
       "      <td>se</td>\n",
       "      <td>sv</td>\n",
       "      <td>[solsäng äpplarö, utemöbel, solsäng, sol, äppl...</td>\n",
       "    </tr>\n",
       "    <tr>\n",
       "      <th>2</th>\n",
       "      <td>2022-07-02</td>\n",
       "      <td>6204425850977255515</td>\n",
       "      <td>62044258509772555151656750170</td>\n",
       "      <td>se</td>\n",
       "      <td>sv</td>\n",
       "      <td>[sol]</td>\n",
       "    </tr>\n",
       "    <tr>\n",
       "      <th>3</th>\n",
       "      <td>2022-07-02</td>\n",
       "      <td>6925438576644375683</td>\n",
       "      <td>69254385766443756831656787898</td>\n",
       "      <td>se</td>\n",
       "      <td>sv</td>\n",
       "      <td>[sol, solstol]</td>\n",
       "    </tr>\n",
       "    <tr>\n",
       "      <th>4</th>\n",
       "      <td>2022-07-02</td>\n",
       "      <td>7148360895570161200</td>\n",
       "      <td>71483608955701612001656794672</td>\n",
       "      <td>se</td>\n",
       "      <td>sv</td>\n",
       "      <td>[sun and moon, sol]</td>\n",
       "    </tr>\n",
       "  </tbody>\n",
       "</table>\n",
       "</div>"
      ],
      "text/plain": [
       "     date_hit           visitor_id                     session_id  \\\n",
       "0  2022-07-02  3301425720097539846  33014257200975398461656784646   \n",
       "1  2022-07-02  5068006246376821932  50680062463768219321656771756   \n",
       "2  2022-07-02  6204425850977255515  62044258509772555151656750170   \n",
       "3  2022-07-02  6925438576644375683  69254385766443756831656787898   \n",
       "4  2022-07-02  7148360895570161200  71483608955701612001656794672   \n",
       "\n",
       "  website_market_short website_language_short  \\\n",
       "0                   se                     sv   \n",
       "1                   se                     sv   \n",
       "2                   se                     sv   \n",
       "3                   se                     sv   \n",
       "4                   se                     sv   \n",
       "\n",
       "                               internal_search_terms  \n",
       "0                                              [sol]  \n",
       "1  [solsäng äpplarö, utemöbel, solsäng, sol, äppl...  \n",
       "2                                              [sol]  \n",
       "3                                     [sol, solstol]  \n",
       "4                                [sun and moon, sol]  "
      ]
     },
     "execution_count": 15,
     "metadata": {},
     "output_type": "execute_result"
    }
   ],
   "source": [
    "job_config = bigquery.QueryJobConfig(\n",
    "    use_legacy_sql=False\n",
    ")\n",
    "\n",
    "df = (\n",
    "    bigquery_client.query(query_string, job_config)\n",
    "    .result()\n",
    "    .to_dataframe(\n",
    "        # Optionally, explicitly request to use the BigQuery Storage API. As of\n",
    "        # google-cloud-bigquery version 1.26.0 and above, the BigQuery Storage\n",
    "        # API is used by default.\n",
    "        create_bqstorage_client=True,\n",
    "    )\n",
    ")\n",
    "\n",
    "df"
   ]
  }
 ],
 "metadata": {
  "kernelspec": {
   "display_name": "Python 3 (ipykernel)",
   "language": "python",
   "name": "python3"
  },
  "language_info": {
   "codemirror_mode": {
    "name": "ipython",
    "version": 3
   },
   "file_extension": ".py",
   "mimetype": "text/x-python",
   "name": "python",
   "nbconvert_exporter": "python",
   "pygments_lexer": "ipython3",
   "version": "3.9.13"
  }
 },
 "nbformat": 4,
 "nbformat_minor": 5
}
